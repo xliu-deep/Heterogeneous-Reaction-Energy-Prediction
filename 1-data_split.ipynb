{
 "cells": [
  {
   "cell_type": "code",
   "execution_count": 2,
   "id": "a0d8b2bb",
   "metadata": {},
   "outputs": [],
   "source": [
    "import pandas as pd\n",
    "import numpy as np\n",
    "import os\n",
    "import random"
   ]
  },
  {
   "cell_type": "code",
   "execution_count": 7,
   "id": "9870e2c4",
   "metadata": {},
   "outputs": [
    {
     "name": "stdout",
     "output_type": "stream",
     "text": [
      "96 23\n"
     ]
    }
   ],
   "source": [
    "# data split\n",
    "data = pd.read_csv(\"data/data-2022-6-1.csv\")\n",
    "msk = np.random.rand(len(data)) <= 0.80\n",
    "train = data[msk]\n",
    "test = data[~msk]\n",
    "print(len(train), len(test))\n",
    "train.to_csv('data/train.csv', index=False)\n",
    "test.to_csv('data/test.csv', index=False)"
   ]
  },
  {
   "cell_type": "code",
   "execution_count": 3,
   "id": "7f5fd937",
   "metadata": {},
   "outputs": [],
   "source": [
    "import pandas as pd\n",
    "import numpy as np\n",
    "from rdkit import Chem\n",
    "from rdkit.Chem import AllChem\n",
    "from rdkit import DataStructs\n",
    "import pickle"
   ]
  },
  {
   "cell_type": "code",
   "execution_count": 4,
   "id": "3eb924df",
   "metadata": {},
   "outputs": [],
   "source": [
    "def GenerateFP(smiles,names):\n",
    "\tFP_array = np.zeros((len(smiles),1024))\n",
    "\tBitInfoDic = {}\n",
    "\tfps = []\n",
    "\tfor i,smi in enumerate(smiles):\n",
    "\t\tm1 = Chem.MolFromSmiles(smi)\n",
    "\t\tfp1 = AllChem.GetMorganFingerprintAsBitVect(m1,2,nBits=1024)\n",
    "\t\tfps.append(fp1)\n",
    "\t\tDataStructs.ConvertToNumpyArray(fp1,FP_array[i,:])\n",
    "\t\t# Explain the Fingerprints\n",
    "\t\tinfo={} \n",
    "\t\tAllChem.GetMorganFingerprint(m1,2,bitInfo=info)\t# with radius=2, are roughly equivalent to ECFP4 and FCFP4\n",
    "\t\t# print info\n",
    "\t\tBitInfoDic[smi]=info\n",
    "\treturn FP_array,BitInfoDic"
   ]
  },
  {
   "cell_type": "code",
   "execution_count": 7,
   "id": "0d4aebf5",
   "metadata": {},
   "outputs": [],
   "source": [
    "datatype = 'test'\n",
    "f = pd.read_csv('data/%s.csv'%datatype)\n",
    "smiles = f['SMILES']\n",
    "names = f['Name']\n",
    "f.set_index('Name')\n",
    "FP_array,BitInfoDic = GenerateFP(smiles,names)\n",
    "\n",
    "# Generate X,y set\n",
    "# FP\n",
    "FP_array = FP_array.astype(int)\n",
    "FP_df = pd.DataFrame(data=FP_array,columns= ['FP_'+str(i) for i in range(1,1025)],index=names)\n",
    "\n",
    "# Normalize descriptor\n",
    "from sklearn import preprocessing\n",
    "des_df=f.iloc[:,4:-1]\n",
    "des_df.index = names\n",
    "# min_max_scaler = preprocessing.MinMaxScaler()\n",
    "# des_np = min_max_scaler.fit_transform(des_df)\n",
    "# des_df = pd.DataFrame(des_np,index = names, columns = des_df.columns)\n",
    "# print(des_df)\n",
    "\n",
    "X = pd.concat([des_df,FP_df],axis=1)\n",
    "y = f.iloc[:,-1]\n",
    "X.to_csv(r'data/NoNormlization/X_%s.csv'%datatype)\n",
    "y.to_csv(r'data/NoNormlization/y_%s.csv'%datatype,index=None)\n",
    "\n",
    "fout = open(r'data/NoNormlization/%s_chemical_FPBitInfoDic.pickle'%datatype,'wb')\n",
    "pickle.dump(BitInfoDic,fout)\n",
    "fout.close()"
   ]
  },
  {
   "cell_type": "code",
   "execution_count": null,
   "id": "1d00d04e",
   "metadata": {},
   "outputs": [],
   "source": []
  }
 ],
 "metadata": {
  "kernelspec": {
   "display_name": "Python 3 (ipykernel)",
   "language": "python",
   "name": "python3"
  },
  "language_info": {
   "codemirror_mode": {
    "name": "ipython",
    "version": 3
   },
   "file_extension": ".py",
   "mimetype": "text/x-python",
   "name": "python",
   "nbconvert_exporter": "python",
   "pygments_lexer": "ipython3",
   "version": "3.8.10"
  }
 },
 "nbformat": 4,
 "nbformat_minor": 5
}
